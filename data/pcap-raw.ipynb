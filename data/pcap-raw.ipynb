{
 "cells": [
  {
   "cell_type": "code",
   "execution_count": 14,
   "id": "18aea755-f61b-491b-8eae-74299943b14d",
   "metadata": {},
   "outputs": [],
   "source": [
    "import cbor2\n",
    "import pickle\n",
    "from dranspose.event import message_encoder\n",
    "from cbor2 import CBORTag\n",
    "from datetime import datetime, timezone"
   ]
  },
  {
   "cell_type": "code",
   "execution_count": 16,
   "id": "94753eee-57c2-45b8-b1c5-08872f8c6b65",
   "metadata": {},
   "outputs": [
    {
     "name": "stdout",
     "output_type": "stream",
     "text": [
      "event_number=0 streams={'pcap': StreamData(typ='PCAP_RAW', frames=[b'arm_time: 2024-05-16T08:35:13.060Z\\nmissed: 0\\nprocess: Scaled\\nformat: ASCII\\nfields:\\n FMC_IN.VAL3 double Min scale: 4.657e-09 offset: 0 units: V\\n FMC_IN.VAL3 double Max scale: 4.657e-09 offset: 0 units: V\\n PCAP.TS_TRIG double Value scale: 8e-09 offset: 0 units: s\\n FMC_IN.VAL3 double Mean scale: 4.657e-09 offset: 0 units: V\\n FMC_IN.VAL4 double Mean scale: 4.6566e-09 offset: 0 units: V\\n FMC_IN.VAL5 double Mean scale: 4.65661287e-09 offset: 0 units: V\\n FMC_IN.VAL6 double Mean scale: 4.657e-09 offset: 0 units: V\\n FMC_IN.VAL7 double Mean scale: 4.65661287e-09 offset: 0 units: V\\n FMC_IN.VAL8 double Mean scale: 4.65661287e-09 offset: 0 units: V\\n\\n'], length=1)}\n",
      "event_number=1 streams={'pcap': StreamData(typ='PCAP_RAW', frames=[b' -0.07805519462 0.5994913628 1.033878664 0.2235403025 0.0003709820982 0.01032781777 0.5587889648 -0.001322678594 -0.01674101638\\n'], length=1)}\n",
      "event_number=2 streams={'pcap': StreamData(typ='PCAP_RAW', frames=[b' -0.1372642181 0.6291721748 1.134878664 0.2235845096 0.0003748974927 0.01034164336 0.5586218605 -0.001973110277 -0.01672663084\\n'], length=1)}\n",
      "event_number=3 streams={'pcap': StreamData(typ='PCAP_RAW', frames=[b' -0.1432919409 0.6156670239 1.235878664 0.2239154373 0.0003746620624 0.01033532264 0.5584100302 -0.001628632036 -0.01674176803\\n'], length=1)}\n",
      "event_number=4 streams={'pcap': StreamData(typ='PCAP_RAW', frames=[b' -0.09445975654 0.5128142356 1.336878664 0.2239366622 0.0003766489588 0.01032096846 0.5583106249 -0.001156779082 -0.0167369799\\n'], length=1)}\n",
      "event_number=5 streams={'pcap': StreamData(typ='PCAP_RAW', frames=[b' -0.05821711974 0.516095148 1.437878664 0.2239355806 0.0003792491286 0.01031282801 0.5581383457 -0.000781521258 -0.01673761575\\n'], length=1)}\n",
      "event_number=6 streams={'pcap': StreamData(typ='PCAP_RAW', frames=[b' -0.06874655949 0.5073206149 1.538878664 0.2235850417 0.0003796025273 0.01033656684 0.557902415 -0.0005242256161 -0.01674624207\\n'], length=1)}\n",
      "EOFError('Ran out of input')\n"
     ]
    }
   ],
   "source": [
    "with open(\"pcaptestpcap-ingester-7961ecb0-4844-4b47-a0a2-e0855c37dd79.pkls\", \"rb\") as f:\n",
    "    with open(\"pcaptestpcapRAW-ingester-7961ecb0-4844-4b47-a0a2-e0855c37dd79.cbors\", \"wb\") as fo:\n",
    "        while True:\n",
    "            try:\n",
    "                pkg = pickle.load(f)\n",
    "                #pkg.value[1][\"pcap_rot\"].value[0] = \"PCAP_RAW\"\n",
    "                pkg.streams[\"pcap\"].typ = \"PCAP_RAW\"\n",
    "                print(pkg)\n",
    "                \n",
    "                pkg.created_at = datetime.now(timezone.utc)\n",
    "                cbor2.dump(\n",
    "                            CBORTag(55799, pkg),\n",
    "                            fo,\n",
    "                            default=message_encoder,\n",
    "                        )\n",
    "                #print(pkg.value[1][\"pcap_rot\"].value[0])\n",
    "            except Exception as e:\n",
    "                print(e.__repr__())\n",
    "                break\n",
    "            #break"
   ]
  },
  {
   "cell_type": "code",
   "execution_count": 18,
   "id": "4724ea2a-b585-4c40-8700-d8892fb7cb05",
   "metadata": {},
   "outputs": [
    {
     "name": "stdout",
     "output_type": "stream",
     "text": [
      "CBORTag(42877, [0, {'pcap': CBORTag(42878, ['PCAP_RAW', [b'arm_time: 2024-10-30T10:32:07.097Z\\nmissed: 0\\nprocess: Scaled\\nformat: ASCII\\nfields:\\n COUNTER5.OUT double Value scale: 1 offset: 0 units: \\n FMC_IN.VAL3 double Min scale: 4.657e-09 offset: 0 units: V\\n FMC_IN.VAL3 double Max scale: 4.657e-09 offset: 0 units: V\\n PCAP.TS_TRIG double Value scale: 8e-09 offset: 0 units: s\\n FMC_IN.VAL3 double Mean scale: 4.657e-09 offset: 0 units: V\\n FMC_IN.VAL4 double Mean scale: 4.6566e-09 offset: 0 units: V\\n FMC_IN.VAL5 double Mean scale: 4.65661287e-09 offset: 0 units: V\\n FMC_IN.VAL6 double Mean scale: 4.657e-09 offset: 0 units: V\\n FMC_IN.VAL7 double Mean scale: 4.65661287e-09 offset: 0 units: V\\n FMC_IN.VAL8 double Mean scale: 4.65661287e-09 offset: 0 units: V\\n\\n']])}])\n",
      "CBORTag(42877, [1, {'pcap': CBORTag(42878, ['PCAP_RAW', [b' 1 -0.2881861878 0.3072612598 0.18885272 -0.004659002143 -0.006894744441 -0.0005004248288 -0.002167991726 0.0004137032346 -0.001533543792\\n']])}])\n",
      "CBORTag(42877, [2, {'pcap': CBORTag(42878, ['PCAP_RAW', [b' 2 -0.2915434004 0.3031410442 0.28985272 -0.004642254383 -0.006920030839 -0.000461834686 -0.002175139775 0.0003619026975 -0.001492886669\\n']])}])\n",
      "CBORTag(42877, [3, {'pcap': CBORTag(42878, ['PCAP_RAW', [b' 3 -0.2888728904 0.3100080701 0.39085272 -0.004668442033 -0.006918192844 -0.0004596318234 -0.002173909656 0.0003914482908 -0.001488163518\\n']])}])\n",
      "CBORTag(42877, [4, {'pcap': CBORTag(42878, ['PCAP_RAW', [b'END 3 Disarmed\\n']])}])\n",
      "CBORDecodeEOF('premature end of stream (expected to read 1 bytes, got 0 instead)')\n"
     ]
    }
   ],
   "source": [
    "with open(\"togetherpcap-ingester-a7c00d60-b1e6-45e7-861d-01dadc10f239.cbors\", \"rb\") as f:\n",
    "    with open(\"togetherpcapRAW-ingester-a7c00d60-b1e6-45e7-861d-01dadc10f239.cbors\", \"wb\") as fo:\n",
    "        while True:\n",
    "            try:\n",
    "                pkg = cbor2.load(f)\n",
    "                pkg.value[1][\"pcap\"].value[0] = \"PCAP_RAW\"\n",
    "                print(pkg)\n",
    "                cbor2.dump(pkg, fo)\n",
    "                #print(pkg.value[1][\"pcap_rot\"].value[0])\n",
    "            except Exception as e:\n",
    "                print(e.__repr__())\n",
    "                break\n",
    "            #break"
   ]
  },
  {
   "cell_type": "code",
   "execution_count": null,
   "id": "f2ad6aa2-fb83-4ca3-a199-25b420a570c3",
   "metadata": {},
   "outputs": [],
   "source": []
  }
 ],
 "metadata": {
  "kernelspec": {
   "display_name": "Python 3 (ipykernel)",
   "language": "python",
   "name": "python3"
  },
  "language_info": {
   "codemirror_mode": {
    "name": "ipython",
    "version": 3
   },
   "file_extension": ".py",
   "mimetype": "text/x-python",
   "name": "python",
   "nbconvert_exporter": "python",
   "pygments_lexer": "ipython3",
   "version": "3.11.6"
  }
 },
 "nbformat": 4,
 "nbformat_minor": 5
}
